{
 "cells": [
  {
   "cell_type": "code",
   "execution_count": 1,
   "id": "3fa7f15c",
   "metadata": {
    "_cell_guid": "b1076dfc-b9ad-4769-8c92-a6c4dae69d19",
    "_uuid": "8f2839f25d086af736a60e9eeb907d3b93b6e0e5",
    "execution": {
     "iopub.execute_input": "2024-04-04T10:30:57.372126Z",
     "iopub.status.busy": "2024-04-04T10:30:57.371499Z",
     "iopub.status.idle": "2024-04-04T10:30:58.491187Z",
     "shell.execute_reply": "2024-04-04T10:30:58.488828Z"
    },
    "papermill": {
     "duration": 1.129835,
     "end_time": "2024-04-04T10:30:58.493968",
     "exception": false,
     "start_time": "2024-04-04T10:30:57.364133",
     "status": "completed"
    },
    "tags": []
   },
   "outputs": [
    {
     "name": "stdout",
     "output_type": "stream",
     "text": [
      "/kaggle/input/playground-series-s4e4/sample_submission.csv\n",
      "/kaggle/input/playground-series-s4e4/train.csv\n",
      "/kaggle/input/playground-series-s4e4/test.csv\n"
     ]
    }
   ],
   "source": [
    "# This Python 3 environment comes with many helpful analytics libraries installed\n",
    "# It is defined by the kaggle/python Docker image: https://github.com/kaggle/docker-python\n",
    "# For example, here's several helpful packages to load\n",
    "\n",
    "import numpy as np # linear algebra\n",
    "import pandas as pd # data processing, CSV file I/O (e.g. pd.read_csv)\n",
    "\n",
    "# Input data files are available in the read-only \"../input/\" directory\n",
    "# For example, running this (by clicking run or pressing Shift+Enter) will list all files under the input directory\n",
    "\n",
    "import os\n",
    "for dirname, _, filenames in os.walk('/kaggle/input'):\n",
    "    for filename in filenames:\n",
    "        print(os.path.join(dirname, filename))\n",
    "\n",
    "# You can write up to 20GB to the current directory (/kaggle/working/) that gets preserved as output when you create a version using \"Save & Run All\" \n",
    "# You can also write temporary files to /kaggle/temp/, but they won't be saved outside of the current session"
   ]
  },
  {
   "cell_type": "markdown",
   "id": "09bc192d",
   "metadata": {
    "papermill": {
     "duration": 0.004668,
     "end_time": "2024-04-04T10:30:58.503813",
     "exception": false,
     "start_time": "2024-04-04T10:30:58.499145",
     "status": "completed"
    },
    "tags": []
   },
   "source": [
    "# 1. Import Libraries "
   ]
  },
  {
   "cell_type": "code",
   "execution_count": 2,
   "id": "b361b74d",
   "metadata": {
    "execution": {
     "iopub.execute_input": "2024-04-04T10:30:58.515948Z",
     "iopub.status.busy": "2024-04-04T10:30:58.514195Z",
     "iopub.status.idle": "2024-04-04T10:31:00.894538Z",
     "shell.execute_reply": "2024-04-04T10:31:00.892773Z"
    },
    "papermill": {
     "duration": 2.389775,
     "end_time": "2024-04-04T10:31:00.898070",
     "exception": false,
     "start_time": "2024-04-04T10:30:58.508295",
     "status": "completed"
    },
    "tags": []
   },
   "outputs": [],
   "source": [
    "import pandas as pd\n",
    "import numpy as np\n",
    "\n",
    "from matplotlib import pyplot as plt\n",
    "import seaborn as sns\n",
    "\n",
    "from sklearn.model_selection import train_test_split\n",
    "from sklearn.preprocessing import StandardScaler, RobustScaler, MinMaxScaler, OneHotEncoder, OrdinalEncoder\n",
    "\n"
   ]
  },
  {
   "cell_type": "markdown",
   "id": "264280ca",
   "metadata": {
    "papermill": {
     "duration": 0.004186,
     "end_time": "2024-04-04T10:31:00.907031",
     "exception": false,
     "start_time": "2024-04-04T10:31:00.902845",
     "status": "completed"
    },
    "tags": []
   },
   "source": [
    "# 2. Import Dataset "
   ]
  },
  {
   "cell_type": "code",
   "execution_count": 3,
   "id": "1710b29a",
   "metadata": {
    "execution": {
     "iopub.execute_input": "2024-04-04T10:31:00.919125Z",
     "iopub.status.busy": "2024-04-04T10:31:00.918604Z",
     "iopub.status.idle": "2024-04-04T10:31:01.264462Z",
     "shell.execute_reply": "2024-04-04T10:31:01.262703Z"
    },
    "papermill": {
     "duration": 0.355529,
     "end_time": "2024-04-04T10:31:01.267520",
     "exception": false,
     "start_time": "2024-04-04T10:31:00.911991",
     "status": "completed"
    },
    "tags": []
   },
   "outputs": [
    {
     "data": {
      "text/plain": [
       "((90615, 10), (60411, 9))"
      ]
     },
     "execution_count": 3,
     "metadata": {},
     "output_type": "execute_result"
    }
   ],
   "source": [
    "train_path = \"/kaggle/input/playground-series-s4e4/train.csv\"\n",
    "test_path = \"/kaggle/input/playground-series-s4e4/test.csv\"\n",
    "\n",
    "train_df = pd.read_csv(train_path)\n",
    "test_df = pd.read_csv(test_path)\n",
    "\n",
    "train_df.shape, test_df.shape"
   ]
  },
  {
   "cell_type": "markdown",
   "id": "61a24cdc",
   "metadata": {
    "papermill": {
     "duration": 0.004384,
     "end_time": "2024-04-04T10:31:01.276725",
     "exception": false,
     "start_time": "2024-04-04T10:31:01.272341",
     "status": "completed"
    },
    "tags": []
   },
   "source": [
    "# 3. EDA"
   ]
  },
  {
   "cell_type": "markdown",
   "id": "899b4a47",
   "metadata": {
    "papermill": {
     "duration": 0.004356,
     "end_time": "2024-04-04T10:31:01.285889",
     "exception": false,
     "start_time": "2024-04-04T10:31:01.281533",
     "status": "completed"
    },
    "tags": []
   },
   "source": [
    "## (a). Null Values"
   ]
  },
  {
   "cell_type": "code",
   "execution_count": 4,
   "id": "20382c50",
   "metadata": {
    "execution": {
     "iopub.execute_input": "2024-04-04T10:31:01.297418Z",
     "iopub.status.busy": "2024-04-04T10:31:01.296887Z",
     "iopub.status.idle": "2024-04-04T10:31:01.327283Z",
     "shell.execute_reply": "2024-04-04T10:31:01.326190Z"
    },
    "papermill": {
     "duration": 0.039746,
     "end_time": "2024-04-04T10:31:01.330374",
     "exception": false,
     "start_time": "2024-04-04T10:31:01.290628",
     "status": "completed"
    },
    "tags": []
   },
   "outputs": [
    {
     "data": {
      "text/plain": [
       "id                0\n",
       "Sex               0\n",
       "Length            0\n",
       "Diameter          0\n",
       "Height            0\n",
       "Whole weight      0\n",
       "Whole weight.1    0\n",
       "Whole weight.2    0\n",
       "Shell weight      0\n",
       "Rings             0\n",
       "dtype: int64"
      ]
     },
     "execution_count": 4,
     "metadata": {},
     "output_type": "execute_result"
    }
   ],
   "source": [
    "train_df.isnull().sum()"
   ]
  },
  {
   "cell_type": "code",
   "execution_count": 5,
   "id": "22a5158b",
   "metadata": {
    "execution": {
     "iopub.execute_input": "2024-04-04T10:31:01.343556Z",
     "iopub.status.busy": "2024-04-04T10:31:01.343050Z",
     "iopub.status.idle": "2024-04-04T10:31:01.362757Z",
     "shell.execute_reply": "2024-04-04T10:31:01.361660Z"
    },
    "papermill": {
     "duration": 0.029829,
     "end_time": "2024-04-04T10:31:01.365653",
     "exception": false,
     "start_time": "2024-04-04T10:31:01.335824",
     "status": "completed"
    },
    "tags": []
   },
   "outputs": [
    {
     "data": {
      "text/plain": [
       "id                0\n",
       "Sex               0\n",
       "Length            0\n",
       "Diameter          0\n",
       "Height            0\n",
       "Whole weight      0\n",
       "Whole weight.1    0\n",
       "Whole weight.2    0\n",
       "Shell weight      0\n",
       "dtype: int64"
      ]
     },
     "execution_count": 5,
     "metadata": {},
     "output_type": "execute_result"
    }
   ],
   "source": [
    "test_df.isnull().sum()"
   ]
  },
  {
   "cell_type": "code",
   "execution_count": null,
   "id": "3dffe846",
   "metadata": {
    "papermill": {
     "duration": 0.004504,
     "end_time": "2024-04-04T10:31:01.375100",
     "exception": false,
     "start_time": "2024-04-04T10:31:01.370596",
     "status": "completed"
    },
    "tags": []
   },
   "outputs": [],
   "source": []
  }
 ],
 "metadata": {
  "kaggle": {
   "accelerator": "none",
   "dataSources": [
    {
     "databundleVersionId": 8096274,
     "sourceId": 72489,
     "sourceType": "competition"
    }
   ],
   "dockerImageVersionId": 30673,
   "isGpuEnabled": false,
   "isInternetEnabled": true,
   "language": "python",
   "sourceType": "notebook"
  },
  "kernelspec": {
   "display_name": "Python 3",
   "language": "python",
   "name": "python3"
  },
  "language_info": {
   "codemirror_mode": {
    "name": "ipython",
    "version": 3
   },
   "file_extension": ".py",
   "mimetype": "text/x-python",
   "name": "python",
   "nbconvert_exporter": "python",
   "pygments_lexer": "ipython3",
   "version": "3.10.13"
  },
  "papermill": {
   "default_parameters": {},
   "duration": 8.730167,
   "end_time": "2024-04-04T10:31:02.105021",
   "environment_variables": {},
   "exception": null,
   "input_path": "__notebook__.ipynb",
   "output_path": "__notebook__.ipynb",
   "parameters": {},
   "start_time": "2024-04-04T10:30:53.374854",
   "version": "2.5.0"
  }
 },
 "nbformat": 4,
 "nbformat_minor": 5
}
